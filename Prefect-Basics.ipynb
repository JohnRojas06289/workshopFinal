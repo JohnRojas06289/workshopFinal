{
 "cells": [
  {
   "cell_type": "markdown",
   "id": "7566d31a",
   "metadata": {},
   "source": [
    "## Data Pipelines - Introduction to Prefect\n",
    "### Big Data Tools \n",
    "#### M.Sc. in Applied Analytics (coterminal course)\n",
    "Fac. de Ingeniería -  Universidad de la Sabana<br>\n",
    "Prof.: Hugo Franco, Ph.D."
   ]
  },
  {
   "cell_type": "code",
   "execution_count": 4,
   "id": "e11b8052",
   "metadata": {},
   "outputs": [
    {
     "data": {
      "text/html": [
       "<pre style=\"white-space:pre;overflow-x:auto;line-height:normal;font-family:Menlo,'DejaVu Sans Mono',consolas,'Courier New',monospace\">10:25:58.292 | <span style=\"color: #008080; text-decoration-color: #008080\">INFO</span>    | Flow run<span style=\"color: #800080; text-decoration-color: #800080\"> 'ultramarine-seriema'</span> - Beginning flow run<span style=\"color: #800080; text-decoration-color: #800080\"> 'ultramarine-seriema'</span> for flow<span style=\"color: #800080; text-decoration-color: #800080; font-weight: bold\"> 'notify-users'</span>\n",
       "</pre>\n"
      ],
      "text/plain": [
       "10:25:58.292 | \u001b[36mINFO\u001b[0m    | Flow run\u001b[35m 'ultramarine-seriema'\u001b[0m - Beginning flow run\u001b[35m 'ultramarine-seriema'\u001b[0m for flow\u001b[1;35m 'notify-users'\u001b[0m\n"
      ]
     },
     "metadata": {},
     "output_type": "display_data"
    },
    {
     "data": {
      "text/html": [
       "<pre style=\"white-space:pre;overflow-x:auto;line-height:normal;font-family:Menlo,'DejaVu Sans Mono',consolas,'Courier New',monospace\">10:25:58.459 | <span style=\"color: #008080; text-decoration-color: #008080\">INFO</span>    | Task run 'get_users-c1c' - Finished in state <span style=\"color: #008000; text-decoration-color: #008000\">Completed</span>()\n",
       "</pre>\n"
      ],
      "text/plain": [
       "10:25:58.459 | \u001b[36mINFO\u001b[0m    | Task run 'get_users-c1c' - Finished in state \u001b[32mCompleted\u001b[0m()\n"
      ]
     },
     "metadata": {},
     "output_type": "display_data"
    },
    {
     "name": "stdout",
     "output_type": "stream",
     "text": [
      "Sending email to juan@example-mail.com\n"
     ]
    },
    {
     "data": {
      "text/html": [
       "<pre style=\"white-space:pre;overflow-x:auto;line-height:normal;font-family:Menlo,'DejaVu Sans Mono',consolas,'Courier New',monospace\">10:25:58.631 | <span style=\"color: #008080; text-decoration-color: #008080\">INFO</span>    | Task run 'send_email-0eb' - Task 'send_email' completed in 0.00 seconds\n",
       "</pre>\n"
      ],
      "text/plain": [
       "10:25:58.631 | \u001b[36mINFO\u001b[0m    | Task run 'send_email-0eb' - Task 'send_email' completed in 0.00 seconds\n"
      ]
     },
     "metadata": {},
     "output_type": "display_data"
    },
    {
     "data": {
      "text/html": [
       "<pre style=\"white-space:pre;overflow-x:auto;line-height:normal;font-family:Menlo,'DejaVu Sans Mono',consolas,'Courier New',monospace\">10:25:58.646 | <span style=\"color: #008080; text-decoration-color: #008080\">INFO</span>    | Task run 'send_email-0eb' - Finished in state <span style=\"color: #008000; text-decoration-color: #008000\">Completed</span>()\n",
       "</pre>\n"
      ],
      "text/plain": [
       "10:25:58.646 | \u001b[36mINFO\u001b[0m    | Task run 'send_email-0eb' - Finished in state \u001b[32mCompleted\u001b[0m()\n"
      ]
     },
     "metadata": {},
     "output_type": "display_data"
    },
    {
     "name": "stdout",
     "output_type": "stream",
     "text": [
      "Sending email to ana@mail-example.com\n"
     ]
    },
    {
     "data": {
      "text/html": [
       "<pre style=\"white-space:pre;overflow-x:auto;line-height:normal;font-family:Menlo,'DejaVu Sans Mono',consolas,'Courier New',monospace\">10:25:58.831 | <span style=\"color: #008080; text-decoration-color: #008080\">INFO</span>    | Task run 'send_email-c79' - Task 'send_email' completed in 0.00 seconds\n",
       "</pre>\n"
      ],
      "text/plain": [
       "10:25:58.831 | \u001b[36mINFO\u001b[0m    | Task run 'send_email-c79' - Task 'send_email' completed in 0.00 seconds\n"
      ]
     },
     "metadata": {},
     "output_type": "display_data"
    },
    {
     "data": {
      "text/html": [
       "<pre style=\"white-space:pre;overflow-x:auto;line-height:normal;font-family:Menlo,'DejaVu Sans Mono',consolas,'Courier New',monospace\">10:25:58.846 | <span style=\"color: #008080; text-decoration-color: #008080\">INFO</span>    | Task run 'send_email-c79' - Finished in state <span style=\"color: #008000; text-decoration-color: #008000\">Completed</span>()\n",
       "</pre>\n"
      ],
      "text/plain": [
       "10:25:58.846 | \u001b[36mINFO\u001b[0m    | Task run 'send_email-c79' - Finished in state \u001b[32mCompleted\u001b[0m()\n"
      ]
     },
     "metadata": {},
     "output_type": "display_data"
    },
    {
     "data": {
      "text/html": [
       "<pre style=\"white-space:pre;overflow-x:auto;line-height:normal;font-family:Menlo,'DejaVu Sans Mono',consolas,'Courier New',monospace\">10:25:58.937 | <span style=\"color: #008080; text-decoration-color: #008080\">INFO</span>    | Flow run<span style=\"color: #800080; text-decoration-color: #800080\"> 'ultramarine-seriema'</span> - Finished in state <span style=\"color: #008000; text-decoration-color: #008000\">Completed</span>()\n",
       "</pre>\n"
      ],
      "text/plain": [
       "10:25:58.937 | \u001b[36mINFO\u001b[0m    | Flow run\u001b[35m 'ultramarine-seriema'\u001b[0m - Finished in state \u001b[32mCompleted\u001b[0m()\n"
      ]
     },
     "metadata": {},
     "output_type": "display_data"
    }
   ],
   "source": [
    "from prefect import flow, task, get_run_logger\n",
    "from typing import Callable\n",
    "from functools import wraps\n",
    "import time\n",
    "\n",
    "\n",
    "# Custom Timing Decorator for Prefect Tasks\n",
    "def timing_decorator(func: Callable) -> Callable:\n",
    "    '''Custom decorator to time task execution'''\n",
    "    @wraps(func)\n",
    "    def wrapper(*args, **kwargs):\n",
    "        logger = get_run_logger()\n",
    "        start_time = time.time()\n",
    "\n",
    "        # Execute the original function\n",
    "        result = func(*args, **kwargs)\n",
    "\n",
    "        end_time = time.time()\n",
    "        execution_time = end_time - start_time\n",
    "\n",
    "        logger.info(f\"Task '{func.__name__}' completed in {execution_time:.2f} seconds\")\n",
    "        return result\n",
    "\n",
    "    return wrapper\n",
    "\n",
    "@task\n",
    "def get_users():\n",
    "    return [\"juan@example-mail.com\", \"ana@mail-example.com\"]\n",
    "\n",
    "@task\n",
    "@timing_decorator\n",
    "def send_email(user):\n",
    "    print(f\"Sending email to {user}\")\n",
    "\n",
    "@flow\n",
    "def notify_users():\n",
    "    users = get_users()\n",
    "    for user in users:\n",
    "        send_email(user)\n",
    "\n",
    "notify_users()"
   ]
  }
 ],
 "metadata": {
  "kernelspec": {
   "display_name": "BigDataPipelines",
   "language": "python",
   "name": "python3"
  },
  "language_info": {
   "codemirror_mode": {
    "name": "ipython",
    "version": 3
   },
   "file_extension": ".py",
   "mimetype": "text/x-python",
   "name": "python",
   "nbconvert_exporter": "python",
   "pygments_lexer": "ipython3",
   "version": "3.13.5"
  }
 },
 "nbformat": 4,
 "nbformat_minor": 5
}
